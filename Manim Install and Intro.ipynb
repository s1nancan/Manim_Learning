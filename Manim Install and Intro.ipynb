{
 "cells": [
  {
   "cell_type": "markdown",
   "metadata": {},
   "source": [
    "Many PhD dread over creating figures that can deliver the message in the most clear way. Especially trying to publish higher impact journals requires extra extra effort. Thickness of every line, size of every dot and even less then quarter of an inch empty space is questioned by your PI and you end up spending days trying to perfect every plot. That rigorous practice helped a lot in my transition to data science, plotting your results and creating a nicely flowing data story comes as a breeze. \n",
    "\n",
    "Then I saw videos from 3Blue1Brown... It made me question many visuals I create. I am not even mentioning all the fancy edited, highly Photoshopped videoes that are work of art but creating a simple rotating square... Given that any TikTok (ahem, I meant educational) videos are capturing audience, the importance of creating animations hit me different. Since then I was scared to even learn about any editing or animation tools, hey I am not an artist at all, but write programs for my livelihood. Oh boy, silly me.  \n",
    "\n",
    "Long story short, I have discovered that 3Blue1Brown started a personal project to make the animation programmatic, reproducible, and fun to deliver his content: Manim. Now I am not only amazed by the complexity and flow of the videos also very happy to learn that his project is not only open to use, but also has a community around it. So I am starting to learn about Manim, thinking maybe I can create piece of content that will be not only fun, but useful for my data science job, given that I interact with business-folks all the time to deliver my message. \n",
    "\n",
    "I decided to share my journey of learning Manim, maybe few folks want to tag along. Isn't this whole social media thing about this. "
   ]
  },
  {
   "cell_type": "markdown",
   "metadata": {},
   "source": [
    "## 0 - INTRODUCTION\n",
    "\n",
    "My plan is simple: \n",
    "\n",
    "1- Install it to my local\n",
    "\n",
    "2- Learn the basics: Do the tutorials to get the basics\n",
    "\n",
    "3- Jump into recreating some educational videos online, that I like as a learning practice, since I don't want to both think about content and the visuals. \n",
    "\n",
    "4- See where it goes. \n",
    "\n",
    "I want to document everything I did so that I can share my learnings and learn from others along the journey. "
   ]
  },
  {
   "cell_type": "markdown",
   "metadata": {},
   "source": [
    "## 1- INSTALLATION"
   ]
  },
  {
   "cell_type": "markdown",
   "metadata": {},
   "source": [
    "I use conda to control my environments. My devops/software organization skills are pretty limited tbh, so I am always rooting for simplest (most times dirtiest) solutions. So I do what I do when I start a new project: Create a new conda environment, so that my other stuff is not messed up. I always use the [official conda cheat sheet](https://docs.conda.io/projects/conda/en/4.6.0/_downloads/52a95608c49671267e40c689e0bc00ca/conda-cheatsheet.pdf) to take a peek if interested. \n",
    "\n",
    "If you want to install from other sources, or take a look at the original repo, [here it is](https://docs.manim.community/en/stable/installation.html). "
   ]
  },
  {
   "cell_type": "markdown",
   "metadata": {},
   "source": [
    "### a- Conda Environment\n",
    "\n",
    "Create a fresh conda environment. I copied my base (since it has pandas, numpy etc)\n",
    "\n",
    "conda create --clone base --name manim_env_conda\n",
    "\n",
    "### b- Install ffmeg\n",
    "\n",
    "FFmpeg is a free and open-source software project consisting of a suite of libraries and programs for handling video, audio, and other multimedia files and streams. So grab the library from conda repository:\n",
    "\n",
    "conda install -c conda-forge ffmpeg\n",
    "\n",
    "### c- Install manim:\n",
    "\n",
    "You can use jupyter to install packages to your environment, for documentation purposes, here it is as another way of pip installing a package"
   ]
  },
  {
   "cell_type": "code",
   "execution_count": 4,
   "metadata": {},
   "outputs": [
    {
     "name": "stdout",
     "output_type": "stream",
     "text": [
      "Collecting manim\n",
      "  Using cached manim-0.15.2-py3-none-any.whl (514 kB)\n",
      "Collecting colour<0.2.0,>=0.1.5\n",
      "  Using cached colour-0.1.5-py2.py3-none-any.whl (23 kB)\n",
      "Collecting skia-pathops<0.8.0,>=0.7.0\n",
      "  Downloading skia_pathops-0.7.2-cp39-cp39-win_amd64.whl (2.8 MB)\n",
      "Requirement already satisfied: numpy<2.0,>=1.9 in c:\\users\\sinan\\anaconda3\\envs\\manim_env_conda\\lib\\site-packages (from manim) (1.20.3)\n",
      "Collecting manimpango<0.5.0,>=0.4.0.post0\n",
      "  Downloading ManimPango-0.4.1-cp39-cp39-win_amd64.whl (4.1 MB)\n",
      "Collecting moderngl<6.0.0,>=5.6.3\n",
      "  Downloading moderngl-5.6.4-cp39-cp39-win_amd64.whl (139 kB)\n",
      "Collecting isosurfaces==0.1.0\n",
      "  Using cached isosurfaces-0.1.0-py3-none-any.whl (10 kB)\n",
      "Collecting cloup<0.14.0,>=0.13.0\n",
      "  Using cached cloup-0.13.1-py2.py3-none-any.whl (51 kB)\n",
      "Requirement already satisfied: Pygments<3.0.0,>=2.10.0 in c:\\users\\sinan\\anaconda3\\envs\\manim_env_conda\\lib\\site-packages (from manim) (2.10.0)\n",
      "Collecting mapbox-earcut<0.13.0,>=0.12.10\n",
      "  Downloading mapbox_earcut-0.12.11-cp39-cp39-win_amd64.whl (67 kB)\n",
      "Collecting pycairo<2.0,>=1.19\n",
      "  Downloading pycairo-1.21.0-cp39-cp39-win_amd64.whl (1.3 MB)\n",
      "Collecting pydub<0.26.0,>=0.25.1\n",
      "  Using cached pydub-0.25.1-py2.py3-none-any.whl (32 kB)\n",
      "Requirement already satisfied: decorator<6.0.0,>=5.0.7 in c:\\users\\sinan\\anaconda3\\envs\\manim_env_conda\\lib\\site-packages (from manim) (5.1.0)\n",
      "Collecting scipy<2.0.0,>=1.7.3\n",
      "  Downloading scipy-1.8.1-cp39-cp39-win_amd64.whl (36.9 MB)\n",
      "Requirement already satisfied: networkx<3.0,>=2.5 in c:\\users\\sinan\\anaconda3\\envs\\manim_env_conda\\lib\\site-packages (from manim) (2.6.3)\n",
      "Requirement already satisfied: tqdm<5.0.0,>=4.62.3 in c:\\users\\sinan\\anaconda3\\envs\\manim_env_conda\\lib\\site-packages (from manim) (4.62.3)\n",
      "Collecting rich!=12.0.0,>=6.0\n",
      "  Using cached rich-12.4.4-py3-none-any.whl (232 kB)\n",
      "Collecting click-default-group<2.0.0,>=1.2.2\n",
      "  Using cached click-default-group-1.2.2.tar.gz (3.3 kB)\n",
      "Requirement already satisfied: requests<3.0.0,>=2.26.0 in c:\\users\\sinan\\anaconda3\\envs\\manim_env_conda\\lib\\site-packages (from manim) (2.26.0)\n",
      "Collecting watchdog<3.0.0,>=2.1.6\n",
      "  Using cached watchdog-2.1.9-py3-none-win_amd64.whl (78 kB)\n",
      "Collecting screeninfo<0.9,>=0.8\n",
      "  Using cached screeninfo-0.8-py3-none-any.whl (14 kB)\n",
      "Requirement already satisfied: Pillow<10.0,>=8.4 in c:\\users\\sinan\\anaconda3\\envs\\manim_env_conda\\lib\\site-packages (from manim) (8.4.0)\n",
      "Collecting srt<4.0.0,>=3.5.0\n",
      "  Using cached srt-3.5.2.tar.gz (24 kB)\n",
      "Collecting moderngl-window<3.0.0,>=2.3.0\n",
      "  Using cached moderngl_window-2.4.1-py3-none-any.whl (365 kB)\n",
      "Requirement already satisfied: click>=7.2 in c:\\users\\sinan\\anaconda3\\envs\\manim_env_conda\\lib\\site-packages (from manim) (8.0.3)\n",
      "Requirement already satisfied: colorama in c:\\users\\sinan\\anaconda3\\envs\\manim_env_conda\\lib\\site-packages (from click>=7.2->manim) (0.4.4)\n",
      "Collecting glcontext<3,>=2\n",
      "  Downloading glcontext-2.3.6-cp39-cp39-win_amd64.whl (12 kB)\n",
      "Collecting pyglet<2,>=1.5.8\n",
      "  Using cached pyglet-1.5.26-py3-none-any.whl (1.1 MB)\n",
      "Collecting pyrr<1,>=0.10.3\n",
      "  Using cached pyrr-0.10.3-py3-none-any.whl (46 kB)\n",
      "Requirement already satisfied: multipledispatch in c:\\users\\sinan\\anaconda3\\envs\\manim_env_conda\\lib\\site-packages (from pyrr<1,>=0.10.3->moderngl-window<3.0.0,>=2.3.0->manim) (0.6.0)\n",
      "Requirement already satisfied: charset-normalizer~=2.0.0 in c:\\users\\sinan\\anaconda3\\envs\\manim_env_conda\\lib\\site-packages (from requests<3.0.0,>=2.26.0->manim) (2.0.4)\n",
      "Requirement already satisfied: urllib3<1.27,>=1.21.1 in c:\\users\\sinan\\anaconda3\\envs\\manim_env_conda\\lib\\site-packages (from requests<3.0.0,>=2.26.0->manim) (1.26.7)\n",
      "Requirement already satisfied: certifi>=2017.4.17 in c:\\users\\sinan\\anaconda3\\envs\\manim_env_conda\\lib\\site-packages (from requests<3.0.0,>=2.26.0->manim) (2022.6.15)\n",
      "Requirement already satisfied: idna<4,>=2.5 in c:\\users\\sinan\\anaconda3\\envs\\manim_env_conda\\lib\\site-packages (from requests<3.0.0,>=2.26.0->manim) (3.2)\n",
      "Collecting commonmark<0.10.0,>=0.9.0\n",
      "  Using cached commonmark-0.9.1-py2.py3-none-any.whl (51 kB)\n",
      "Requirement already satisfied: six in c:\\users\\sinan\\anaconda3\\envs\\manim_env_conda\\lib\\site-packages (from multipledispatch->pyrr<1,>=0.10.3->moderngl-window<3.0.0,>=2.3.0->manim) (1.16.0)\n",
      "Building wheels for collected packages: click-default-group, srt\n",
      "  Building wheel for click-default-group (setup.py): started\n",
      "  Building wheel for click-default-group (setup.py): finished with status 'done'\n",
      "  Created wheel for click-default-group: filename=click_default_group-1.2.2-py3-none-any.whl size=3385 sha256=13f89c52855dbcd910485442543737474228e74a9bf886b54dc0209012a1a3f3\n",
      "  Stored in directory: c:\\users\\sinan\\appdata\\local\\pip\\cache\\wheels\\f1\\e3\\67\\f79591b232f0deb8e51317fa288eef8b996e2d6cf033bdc1a0\n",
      "  Building wheel for srt (setup.py): started\n",
      "  Building wheel for srt (setup.py): finished with status 'done'\n",
      "  Created wheel for srt: filename=srt-3.5.2-py3-none-any.whl size=22489 sha256=c0806955047cb06bdea61b263bb6cde3377bfe9ad87e257132777f73260d82ce\n",
      "  Stored in directory: c:\\users\\sinan\\appdata\\local\\pip\\cache\\wheels\\4c\\cf\\fc\\fc66e373ba9435f65a53ea7e7aeb18e1100f2ba17b6ef17518\n",
      "Successfully built click-default-group srt\n",
      "Installing collected packages: glcontext, pyrr, pyglet, moderngl, commonmark, watchdog, srt, skia-pathops, screeninfo, scipy, rich, pydub, pycairo, moderngl-window, mapbox-earcut, manimpango, isosurfaces, colour, cloup, click-default-group, manim\n",
      "  Attempting uninstall: watchdog\n",
      "    Found existing installation: watchdog 2.1.3\n",
      "    Uninstalling watchdog-2.1.3:\n",
      "      Successfully uninstalled watchdog-2.1.3\n",
      "  Attempting uninstall: scipy\n",
      "    Found existing installation: scipy 1.7.1\n",
      "    Uninstalling scipy-1.7.1:\n",
      "      Successfully uninstalled scipy-1.7.1\n",
      "Successfully installed click-default-group-1.2.2 cloup-0.13.1 colour-0.1.5 commonmark-0.9.1 glcontext-2.3.6 isosurfaces-0.1.0 manim-0.15.2 manimpango-0.4.1 mapbox-earcut-0.12.11 moderngl-5.6.4 moderngl-window-2.4.1 pycairo-1.21.0 pydub-0.25.1 pyglet-1.5.26 pyrr-0.10.3 rich-12.4.4 scipy-1.8.1 screeninfo-0.8 skia-pathops-0.7.2 srt-3.5.2 watchdog-2.1.9\n"
     ]
    },
    {
     "name": "stderr",
     "output_type": "stream",
     "text": [
      "WARNING: Retrying (Retry(total=4, connect=None, read=None, redirect=None, status=None)) after connection broken by 'ProtocolError('Connection aborted.', ConnectionResetError(10054, 'An existing connection was forcibly closed by the remote host', None, 10054, None))': /simple/manim/\n",
      "ERROR: pip's dependency resolver does not currently take into account all the packages that are installed. This behaviour is the source of the following dependency conflicts.\n",
      "spyder 5.1.5 requires pyqt5<5.13, which is not installed.\n",
      "spyder 5.1.5 requires pyqtwebengine<5.13, which is not installed.\n"
     ]
    }
   ],
   "source": [
    "import sys\n",
    "!{sys.executable} -m pip install manim"
   ]
  },
  {
   "cell_type": "markdown",
   "metadata": {},
   "source": [
    "### d- Try importing now, hopefully it should work!"
   ]
  },
  {
   "cell_type": "code",
   "execution_count": 2,
   "metadata": {},
   "outputs": [
    {
     "data": {
      "text/html": [
       "<pre style=\"white-space:pre;overflow-x:auto;line-height:normal;font-family:Menlo,'DejaVu Sans Mono',consolas,'Courier New',monospace\">Manim Community <span style=\"color: #008000; text-decoration-color: #008000\">v0.15.2</span>\n",
       "\n",
       "</pre>\n"
      ],
      "text/plain": [
       "Manim Community \u001b[32mv0.\u001b[0m\u001b[32m15.2\u001b[0m\n",
       "\n"
      ]
     },
     "metadata": {},
     "output_type": "display_data"
    }
   ],
   "source": [
    "from manim import *"
   ]
  },
  {
   "cell_type": "markdown",
   "metadata": {},
   "source": [
    "Hopefully, you see the output \"Manim Community vXXX\" that tells you it's installed and ready to go. If you are having trouble, please refer to original repo. It supports jupyter magic commands % so take a look at to get familiar, but I am diving right into some examples. "
   ]
  },
  {
   "cell_type": "code",
   "execution_count": 4,
   "metadata": {},
   "outputs": [
    {
     "name": "stdout",
     "output_type": "stream",
     "text": [
      "Usage: manim [OPTIONS] COMMAND [ARGS]...\n",
      "\n",
      "  Animation engine for explanatory math videos.\n",
      "\n",
      "Options:\n",
      "  --version  Show version and exit.\n",
      "  --help     Show this message and exit.\n",
      "\n",
      "Commands:\n",
      "  cfg      Manages Manim configuration files.\n",
      "  init     Sets up a new project in current working directory with default\n",
      "           settings.\n",
      "           \n",
      "           It copies files from templates directory and pastes them in the\n",
      "           current working dir.\n",
      "  new      Create a new project or insert a new scene.\n",
      "  plugins  Manages Manim plugins.\n",
      "  render   Render SCENE(S) from the input FILE.\n",
      "\n",
      "See 'manim <command>' to read about a specific subcommand.\n",
      "\n",
      "Made with <3 by Manim Community developers.\n"
     ]
    }
   ],
   "source": [
    "%manim"
   ]
  },
  {
   "cell_type": "markdown",
   "metadata": {},
   "source": [
    "## 2- Examples\n",
    "\n",
    "Below is a code snipped I slightly altered that has various introductory elements or creating a square, rotating, zooming, putting a text and shifting. Basic stufff when you think about animation making, but I cannot imagine creating those animations manually or even powerpoint, that probably would take me ages. Not that, but it won't look nearly as good. \n",
    "\n",
    "So play along with me, or go to manim site, and look around for examples as they built up more complex stuff throughout tutorials. "
   ]
  },
  {
   "cell_type": "code",
   "execution_count": 91,
   "metadata": {},
   "outputs": [],
   "source": [
    "from turtle import position\n",
    "\n",
    "\n",
    "class DifferentRotations(Scene):\n",
    "    def construct(self):\n",
    "        left_square = Square(color=BLUE, fill_opacity=0.7).shift(3 * LEFT)\n",
    "        right_square = Square(color=GREEN, fill_opacity=0.7).shift(3 * RIGHT)\n",
    "        circle = Circle()  # create a circle\n",
    "\n",
    "        text = MarkupText(\n",
    "                    f'HELLO <span fgcolor=\"{YELLOW}\">WORLD</span>', color=BLUE\n",
    "                )\n",
    "        text.shift(2*UP)\n",
    "        self.add(text)        \n",
    "        \n",
    "        \n",
    "        self.play(\n",
    "            left_square.animate.rotate(PI), Rotate(right_square, angle=PI), circle.animate.set_fill(PINK, opacity=0.5)\n",
    "            , text.animate.shift(UP)\n",
    "            ,run_time=5\n",
    "        )\n",
    "\n",
    "        #self.play()\n",
    "\n",
    "        #self.play(, run_time = 2)\n",
    "\n",
    "        self.wait()"
   ]
  },
  {
   "cell_type": "markdown",
   "metadata": {},
   "source": [
    "### Output: \n",
    "\n",
    "This should create a folder called \"media\" in the directory where notebook is saved and the videos are populated in the shown folders. You can create a .py file and run a command to render, but I find using jupyter notebooks easier to use during exploration and learning, until I am ready to move to a complex project, so I just call the construct() method for the class \"DifferentRotations\" I created and got the results."
   ]
  },
  {
   "cell_type": "code",
   "execution_count": 92,
   "metadata": {},
   "outputs": [
    {
     "name": "stderr",
     "output_type": "stream",
     "text": [
      "                                                                                              \r"
     ]
    },
    {
     "data": {
      "text/html": [
       "<pre style=\"white-space:pre;overflow-x:auto;line-height:normal;font-family:Menlo,'DejaVu Sans Mono',consolas,'Courier New',monospace\"><span style=\"color: #7fbfbf; text-decoration-color: #7fbfbf\">[06/27/22 22:25:36] </span><span style=\"color: #008000; text-decoration-color: #008000\">INFO    </span> Animation <span style=\"color: #008000; text-decoration-color: #008000\">0</span> : Partial movie file        <a href=\"file://c:\\Users\\Sinan\\anaconda3\\envs\\manim_env_conda\\lib\\site-packages\\manim\\scene\\scene_file_writer.py\" target=\"_blank\"><span style=\"color: #7f7f7f; text-decoration-color: #7f7f7f\">scene_file_writer.py</span></a><span style=\"color: #7f7f7f; text-decoration-color: #7f7f7f\">:</span><a href=\"file://c:\\Users\\Sinan\\anaconda3\\envs\\manim_env_conda\\lib\\site-packages\\manim\\scene\\scene_file_writer.py#504\" target=\"_blank\"><span style=\"color: #7f7f7f; text-decoration-color: #7f7f7f\">504</span></a>\n",
       "<span style=\"color: #7fbfbf; text-decoration-color: #7fbfbf\">                    </span>         written in <span style=\"color: #008000; text-decoration-color: #008000\">'C:\\Users\\Sinan\\Desktop\\mani</span> <span style=\"color: #7f7f7f; text-decoration-color: #7f7f7f\">                        </span>\n",
       "<span style=\"color: #7fbfbf; text-decoration-color: #7fbfbf\">                    </span>         <span style=\"color: #008000; text-decoration-color: #008000\">m\\project\\media\\videos\\1080p60\\partial_</span> <span style=\"color: #7f7f7f; text-decoration-color: #7f7f7f\">                        </span>\n",
       "<span style=\"color: #7fbfbf; text-decoration-color: #7fbfbf\">                    </span>         <span style=\"color: #008000; text-decoration-color: #008000\">movie_files\\DifferentRotations\\27248238</span> <span style=\"color: #7f7f7f; text-decoration-color: #7f7f7f\">                        </span>\n",
       "<span style=\"color: #7fbfbf; text-decoration-color: #7fbfbf\">                    </span>         <span style=\"color: #008000; text-decoration-color: #008000\">60_1317482996_1520906246.mp4'</span>           <span style=\"color: #7f7f7f; text-decoration-color: #7f7f7f\">                        </span>\n",
       "</pre>\n"
      ],
      "text/plain": [
       "\u001b[2;36m[06/27/22 22:25:36]\u001b[0m\u001b[2;36m \u001b[0m\u001b[32mINFO    \u001b[0m Animation \u001b[32m0\u001b[0m : Partial movie file        \u001b]8;id=165118;file://c:\\Users\\Sinan\\anaconda3\\envs\\manim_env_conda\\lib\\site-packages\\manim\\scene\\scene_file_writer.py\u001b\\\u001b[2mscene_file_writer.py\u001b[0m\u001b]8;;\u001b\\\u001b[2m:\u001b[0m\u001b]8;id=232525;file://c:\\Users\\Sinan\\anaconda3\\envs\\manim_env_conda\\lib\\site-packages\\manim\\scene\\scene_file_writer.py#504\u001b\\\u001b[2m504\u001b[0m\u001b]8;;\u001b\\\n",
       "\u001b[2;36m                    \u001b[0m         written in \u001b[32m'C:\\Users\\Sinan\\Desktop\\mani\u001b[0m \u001b[2m                        \u001b[0m\n",
       "\u001b[2;36m                    \u001b[0m         \u001b[32mm\\project\\media\\videos\\1080p60\\partial_\u001b[0m \u001b[2m                        \u001b[0m\n",
       "\u001b[2;36m                    \u001b[0m         \u001b[32mmovie_files\\DifferentRotations\\27248238\u001b[0m \u001b[2m                        \u001b[0m\n",
       "\u001b[2;36m                    \u001b[0m         \u001b[32m60_1317482996_1520906246.mp4'\u001b[0m           \u001b[2m                        \u001b[0m\n"
      ]
     },
     "metadata": {},
     "output_type": "display_data"
    },
    {
     "data": {
      "text/html": [
       "<pre style=\"white-space:pre;overflow-x:auto;line-height:normal;font-family:Menlo,'DejaVu Sans Mono',consolas,'Courier New',monospace\"><span style=\"color: #7fbfbf; text-decoration-color: #7fbfbf\">[06/27/22 22:25:37] </span><span style=\"color: #008000; text-decoration-color: #008000\">INFO    </span> Animation <span style=\"color: #008000; text-decoration-color: #008000\">1</span> : Partial movie file        <a href=\"file://c:\\Users\\Sinan\\anaconda3\\envs\\manim_env_conda\\lib\\site-packages\\manim\\scene\\scene_file_writer.py\" target=\"_blank\"><span style=\"color: #7f7f7f; text-decoration-color: #7f7f7f\">scene_file_writer.py</span></a><span style=\"color: #7f7f7f; text-decoration-color: #7f7f7f\">:</span><a href=\"file://c:\\Users\\Sinan\\anaconda3\\envs\\manim_env_conda\\lib\\site-packages\\manim\\scene\\scene_file_writer.py#504\" target=\"_blank\"><span style=\"color: #7f7f7f; text-decoration-color: #7f7f7f\">504</span></a>\n",
       "<span style=\"color: #7fbfbf; text-decoration-color: #7fbfbf\">                    </span>         written in <span style=\"color: #008000; text-decoration-color: #008000\">'C:\\Users\\Sinan\\Desktop\\mani</span> <span style=\"color: #7f7f7f; text-decoration-color: #7f7f7f\">                        </span>\n",
       "<span style=\"color: #7fbfbf; text-decoration-color: #7fbfbf\">                    </span>         <span style=\"color: #008000; text-decoration-color: #008000\">m\\project\\media\\videos\\1080p60\\partial_</span> <span style=\"color: #7f7f7f; text-decoration-color: #7f7f7f\">                        </span>\n",
       "<span style=\"color: #7fbfbf; text-decoration-color: #7fbfbf\">                    </span>         <span style=\"color: #008000; text-decoration-color: #008000\">movie_files\\DifferentRotations\\11645477</span> <span style=\"color: #7f7f7f; text-decoration-color: #7f7f7f\">                        </span>\n",
       "<span style=\"color: #7fbfbf; text-decoration-color: #7fbfbf\">                    </span>         <span style=\"color: #008000; text-decoration-color: #008000\">88_1230839173_1846670973.mp4'</span>           <span style=\"color: #7f7f7f; text-decoration-color: #7f7f7f\">                        </span>\n",
       "</pre>\n"
      ],
      "text/plain": [
       "\u001b[2;36m[06/27/22 22:25:37]\u001b[0m\u001b[2;36m \u001b[0m\u001b[32mINFO    \u001b[0m Animation \u001b[32m1\u001b[0m : Partial movie file        \u001b]8;id=358160;file://c:\\Users\\Sinan\\anaconda3\\envs\\manim_env_conda\\lib\\site-packages\\manim\\scene\\scene_file_writer.py\u001b\\\u001b[2mscene_file_writer.py\u001b[0m\u001b]8;;\u001b\\\u001b[2m:\u001b[0m\u001b]8;id=172187;file://c:\\Users\\Sinan\\anaconda3\\envs\\manim_env_conda\\lib\\site-packages\\manim\\scene\\scene_file_writer.py#504\u001b\\\u001b[2m504\u001b[0m\u001b]8;;\u001b\\\n",
       "\u001b[2;36m                    \u001b[0m         written in \u001b[32m'C:\\Users\\Sinan\\Desktop\\mani\u001b[0m \u001b[2m                        \u001b[0m\n",
       "\u001b[2;36m                    \u001b[0m         \u001b[32mm\\project\\media\\videos\\1080p60\\partial_\u001b[0m \u001b[2m                        \u001b[0m\n",
       "\u001b[2;36m                    \u001b[0m         \u001b[32mmovie_files\\DifferentRotations\\11645477\u001b[0m \u001b[2m                        \u001b[0m\n",
       "\u001b[2;36m                    \u001b[0m         \u001b[32m88_1230839173_1846670973.mp4'\u001b[0m           \u001b[2m                        \u001b[0m\n"
      ]
     },
     "metadata": {},
     "output_type": "display_data"
    }
   ],
   "source": [
    "DifferentRotations().construct()"
   ]
  },
  {
   "cell_type": "markdown",
   "metadata": {},
   "source": [
    "I hope with this stupid simple tutorial, you can also get the basics done and ready to follow my journey. "
   ]
  },
  {
   "cell_type": "code",
   "execution_count": null,
   "metadata": {},
   "outputs": [],
   "source": []
  }
 ],
 "metadata": {
  "kernelspec": {
   "display_name": "Python 3.9.7 ('manim_env_conda')",
   "language": "python",
   "name": "python3"
  },
  "language_info": {
   "codemirror_mode": {
    "name": "ipython",
    "version": 3
   },
   "file_extension": ".py",
   "mimetype": "text/x-python",
   "name": "python",
   "nbconvert_exporter": "python",
   "pygments_lexer": "ipython3",
   "version": "3.9.7"
  },
  "orig_nbformat": 4,
  "vscode": {
   "interpreter": {
    "hash": "cc3c68d632c28c069c16472eb374de38d0da65b2c4f7b25ff7182b1bacf42e7d"
   }
  }
 },
 "nbformat": 4,
 "nbformat_minor": 2
}
